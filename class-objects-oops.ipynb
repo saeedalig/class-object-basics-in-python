{
 "cells": [
  {
   "cell_type": "markdown",
   "id": "3944d10e",
   "metadata": {},
   "source": [
    "## Basics of Class and Object "
   ]
  },
  {
   "cell_type": "markdown",
   "id": "b2108798",
   "metadata": {},
   "source": [
    "### Create a Class in Python\n",
    "\n",
    "In Python, class is defined by using the class keyword. The syntax to create a class is given below.\n",
    "\n",
    "   * class_name:  It is the name of the class\n",
    "   * Docstring:   It is the first string inside the class and has a brief description of the class  Although not mandatory, this is highly recommended.\n",
    "   * statements:  Attributes and methods "
   ]
  },
  {
   "cell_type": "code",
   "execution_count": 1,
   "id": "8c7ebd96",
   "metadata": {},
   "outputs": [],
   "source": [
    "class Person:\n",
    "    def __init__(self, name, sex, profession):\n",
    "        # data members (instance variables)\n",
    "        self.name = name\n",
    "        self.sex = sex\n",
    "        self.profession = profession\n",
    "\n",
    "    # Behavior (instance methods)\n",
    "    def show(self):\n",
    "        print('Name:', self.name, 'Sex:', self.sex, 'Profession:', self.profession)\n",
    "\n",
    "    # Behavior (instance methods)\n",
    "    def work(self):\n",
    "        print(self.name, 'working as a', self.profession)"
   ]
  },
  {
   "cell_type": "markdown",
   "id": "3865a5ab",
   "metadata": {},
   "source": [
    "### Create Object of a Class\n",
    "\n",
    "An object is essential to work with the class attributes. The object is created using the class name. When we create an object of the class, it is called instantiation. The object is also called the instance of a class.\n",
    "\n",
    "A constructor is a special method used to create and initialize an object of a class. This method is defined in the class.\n",
    "\n",
    "In Python, Object creation is divided into two parts in Object Creation and Object initialization\n",
    "\n",
    "   * Internally, the __new__ is the method that creates the object\n",
    "   * And, using the __init__() method we can implement constructor to initialize the object."
   ]
  },
  {
   "cell_type": "code",
   "execution_count": 2,
   "id": "1f9d7508",
   "metadata": {},
   "outputs": [],
   "source": [
    "class Person:\n",
    "    def __init__(self, name, sex, profession):\n",
    "        # data members (instance variables)\n",
    "        self.name = name\n",
    "        self.sex = sex\n",
    "        self.profession = profession\n",
    "\n",
    "    # Behavior (instance methods)\n",
    "    def show(self):\n",
    "        print('Name:', self.name, 'Sex:', self.sex, 'Profession:', self.profession)\n",
    "\n",
    "    # Behavior (instance methods)\n",
    "    def work(self):\n",
    "        print(self.name, 'working as a', self.profession)"
   ]
  },
  {
   "cell_type": "code",
   "execution_count": 3,
   "id": "c0c711c2",
   "metadata": {},
   "outputs": [],
   "source": [
    "# Creating an object of Person class\n",
    "jessa = Person('Jessa', 'Female', 'Software Engineer')"
   ]
  },
  {
   "cell_type": "code",
   "execution_count": 4,
   "id": "87972bde",
   "metadata": {},
   "outputs": [
    {
     "name": "stdout",
     "output_type": "stream",
     "text": [
      "Jessa\n",
      "Software Engineer\n",
      "Female\n"
     ]
    }
   ],
   "source": [
    "# call attributes\n",
    "print(jessa.name,  jessa.profession,  jessa.sex ,sep='\\n')"
   ]
  },
  {
   "cell_type": "code",
   "execution_count": 5,
   "id": "fc16d796",
   "metadata": {},
   "outputs": [
    {
     "name": "stdout",
     "output_type": "stream",
     "text": [
      "Name: Jessa Sex: Female Profession: Software Engineer\n",
      "Jessa working as a Software Engineer\n"
     ]
    }
   ],
   "source": [
    "# call methods\n",
    "jessa.show()\n",
    "jessa.work()"
   ]
  },
  {
   "cell_type": "markdown",
   "id": "c8856d76",
   "metadata": {},
   "source": [
    "### Class Attributes\n",
    "\n",
    "When we design a class, we use instance variables and class variables.\n",
    "\n",
    "In Class, attributes can be defined into two parts:\n",
    "\n",
    "    Instance variables: The instance variables are attributes attached to an instance of a class. We define instance variables in the constructor ( the __init__() method of a class).\n",
    "    Class Variables: A class variable is a variable that is declared inside of class, but outside of any instance method or __init__() method.\n",
    "    \n",
    "Objects do not share instance attributes. Instead, every object has its copy of the instance attribute and is unique to each object.\n",
    "\n",
    "All instances of a class share the class variables. However, unlike instance variables, the value of a class variable is not varied from object to object.\n",
    "\n",
    "Only one copy of the static variable will be created and shared between all objects of the class."
   ]
  },
  {
   "cell_type": "markdown",
   "id": "f8850594",
   "metadata": {},
   "source": [
    "#### Accessing properties and assigning values\n",
    "\n",
    "* An instance attribute can be accessed or modified by using the dot notation: instance_name.attribute_name.\n",
    "* A class variable is accessed or modified using the class name"
   ]
  },
  {
   "cell_type": "code",
   "execution_count": 6,
   "id": "389c949d",
   "metadata": {},
   "outputs": [
    {
     "name": "stdout",
     "output_type": "stream",
     "text": [
      "Student: Harry 12\n",
      "School name: ABC School\n",
      "Student: Jessa 14\n",
      "School name: XYZ School\n"
     ]
    }
   ],
   "source": [
    "class Student:\n",
    "    # class variables\n",
    "    school_name = 'ABC School'\n",
    "\n",
    "    # constructor\n",
    "    def __init__(self, name, age):\n",
    "        # instance variables\n",
    "        self.name = name\n",
    "        self.age = age\n",
    "\n",
    "s1 = Student(\"Harry\", 12)\n",
    "# access instance variables\n",
    "print('Student:', s1.name, s1.age)\n",
    "\n",
    "# access class variable\n",
    "print('School name:', Student.school_name)\n",
    "\n",
    "# Modify instance variables\n",
    "s1.name = 'Jessa'\n",
    "s1.age = 14\n",
    "print('Student:', s1.name, s1.age)\n",
    "\n",
    "# Modify class variables\n",
    "Student.school_name = 'XYZ School'\n",
    "print('School name:', Student.school_name)"
   ]
  },
  {
   "cell_type": "markdown",
   "id": "6e2a7484",
   "metadata": {},
   "source": [
    "### Class Methods\n",
    "\n",
    "In Object-oriented programming, Inside a Class, we can define the following three types of methods.\n",
    "\n",
    "* **Instance method:** Used to access or modify the object state. If we use instance variables inside a method, such methods are called instance methods.\n",
    "* **Class method:** Used to access or modify the class state. In method implementation, if we use only class variables, then such type of methods we should declare as a class method.\n",
    "* **Static method:** It is a general utility method that performs a task in isolation. Inside this method, we don’t use instance or class variable because this static method doesn’t have access to the class attributes.\n",
    "\n",
    "Instance methods work on the instance level (object level). For example, if we have two objects created from the student class, They may have different names, marks, roll numbers, etc. Using instance methods, we can access and modify the instance variables.\n",
    "\n",
    "A class method is bound to the class and not the object of the class. It can access only class variables."
   ]
  },
  {
   "cell_type": "code",
   "execution_count": 7,
   "id": "21777fee",
   "metadata": {},
   "outputs": [
    {
     "name": "stdout",
     "output_type": "stream",
     "text": [
      "Student: Harry 12 ABC School\n",
      "Student: Harry 14 XYZ School\n"
     ]
    }
   ],
   "source": [
    "                                    # class methods demo\n",
    "\n",
    "class Student:\n",
    "    # class variable\n",
    "    school_name = 'ABC School'\n",
    "\n",
    "    # constructor\n",
    "    def __init__(self, name, age):\n",
    "        # instance variables\n",
    "        self.name = name\n",
    "        self.age = age\n",
    "\n",
    "    # instance method\n",
    "    def show(self):\n",
    "        # access instance variables and class variables\n",
    "        print('Student:', self.name, self.age, Student.school_name)\n",
    "\n",
    "    # instance method\n",
    "    def change_age(self, new_age):\n",
    "        # modify instance variable\n",
    "        self.age = new_age\n",
    "\n",
    "    # class method\n",
    "    @classmethod\n",
    "    def modify_school_name(cls, new_name):\n",
    "        # modify class variable\n",
    "        cls.school_name = new_name\n",
    "\n",
    "s1 = Student(\"Harry\", 12)\n",
    "\n",
    "# call instance methods\n",
    "s1.show()\n",
    "s1.change_age(14)\n",
    "\n",
    "# call class method\n",
    "Student.modify_school_name('XYZ School')\n",
    "# call instance methods\n",
    "s1.show()\n"
   ]
  },
  {
   "cell_type": "markdown",
   "id": "c5fb51f7",
   "metadata": {},
   "source": [
    "### Modify and Delete  Object Properties\n",
    "\n",
    "Every object has properties associated with them. We can set or modify the object’s properties after object initialization by calling the property directly using the dot operator."
   ]
  },
  {
   "cell_type": "code",
   "execution_count": 8,
   "id": "8a342dbc",
   "metadata": {},
   "outputs": [
    {
     "name": "stdout",
     "output_type": "stream",
     "text": [
      "Fruit is Apple and Color is red\n"
     ]
    }
   ],
   "source": [
    "class Fruit:\n",
    "    def __init__(self, name, color):\n",
    "        self.name = name\n",
    "        self.color = color\n",
    "\n",
    "    def show(self):\n",
    "        print(\"Fruit is\", self.name, \"and Color is\", self.color)\n",
    "\n",
    "# creating object of the class\n",
    "obj = Fruit(\"Apple\", \"red\")\n",
    "\n",
    "# calling the instance method using the object obj\n",
    "obj.show()\n",
    "# Output Fruit is strawberry and Color is red"
   ]
  },
  {
   "cell_type": "code",
   "execution_count": 9,
   "id": "e1909811",
   "metadata": {},
   "outputs": [
    {
     "name": "stdout",
     "output_type": "stream",
     "text": [
      "Fruit is strawberry and Color is red\n"
     ]
    }
   ],
   "source": [
    "# Modifying Object Properties\n",
    "obj.name = \"strawberry\"\n",
    "obj.show()"
   ]
  },
  {
   "cell_type": "code",
   "execution_count": 10,
   "id": "0ecfe162",
   "metadata": {},
   "outputs": [
    {
     "ename": "AttributeError",
     "evalue": "'Fruit' object has no attribute 'name'",
     "output_type": "error",
     "traceback": [
      "\u001b[1;31m---------------------------------------------------------------------------\u001b[0m",
      "\u001b[1;31mAttributeError\u001b[0m                            Traceback (most recent call last)",
      "\u001b[1;32m~\\AppData\\Local\\Temp\\ipykernel_18448\\3944180273.py\u001b[0m in \u001b[0;36m<module>\u001b[1;34m\u001b[0m\n\u001b[0;32m      4\u001b[0m \u001b[1;33m\u001b[0m\u001b[0m\n\u001b[0;32m      5\u001b[0m \u001b[1;31m# Accessing object properties after deleting\u001b[0m\u001b[1;33m\u001b[0m\u001b[1;33m\u001b[0m\u001b[0m\n\u001b[1;32m----> 6\u001b[1;33m \u001b[0mprint\u001b[0m\u001b[1;33m(\u001b[0m\u001b[0mobj\u001b[0m\u001b[1;33m.\u001b[0m\u001b[0mname\u001b[0m\u001b[1;33m)\u001b[0m\u001b[1;33m\u001b[0m\u001b[1;33m\u001b[0m\u001b[0m\n\u001b[0m\u001b[0;32m      7\u001b[0m \u001b[1;31m# Output: AttributeError: 'Fruit' object has no attribute 'name'\u001b[0m\u001b[1;33m\u001b[0m\u001b[1;33m\u001b[0m\u001b[0m\n",
      "\u001b[1;31mAttributeError\u001b[0m: 'Fruit' object has no attribute 'name'"
     ]
    }
   ],
   "source": [
    "# Deleting Object Properties\n",
    "del obj.name\n",
    "\n",
    "\n",
    "# Accessing object properties after deleting\n",
    "print(obj.name)\n",
    "# Output: AttributeError: 'Fruit' object has no attribute 'name'"
   ]
  },
  {
   "cell_type": "code",
   "execution_count": 11,
   "id": "a9f5dade",
   "metadata": {},
   "outputs": [],
   "source": [
    "# Deleting Object itself\n",
    "del obj"
   ]
  },
  {
   "cell_type": "code",
   "execution_count": 12,
   "id": "19d62ec5",
   "metadata": {},
   "outputs": [
    {
     "ename": "NameError",
     "evalue": "name 'obj' is not defined",
     "output_type": "error",
     "traceback": [
      "\u001b[1;31m---------------------------------------------------------------------------\u001b[0m",
      "\u001b[1;31mNameError\u001b[0m                                 Traceback (most recent call last)",
      "\u001b[1;32m~\\AppData\\Local\\Temp\\ipykernel_18448\\1845612636.py\u001b[0m in \u001b[0;36m<module>\u001b[1;34m\u001b[0m\n\u001b[1;32m----> 1\u001b[1;33m \u001b[0mobj\u001b[0m\u001b[1;33m.\u001b[0m\u001b[0mshow\u001b[0m\u001b[1;33m(\u001b[0m\u001b[1;33m)\u001b[0m\u001b[1;33m\u001b[0m\u001b[1;33m\u001b[0m\u001b[0m\n\u001b[0m",
      "\u001b[1;31mNameError\u001b[0m: name 'obj' is not defined"
     ]
    }
   ],
   "source": [
    "obj.show()"
   ]
  },
  {
   "cell_type": "code",
   "execution_count": null,
   "id": "05cde286",
   "metadata": {},
   "outputs": [],
   "source": []
  }
 ],
 "metadata": {
  "kernelspec": {
   "display_name": "Python 3 (ipykernel)",
   "language": "python",
   "name": "python3"
  },
  "language_info": {
   "codemirror_mode": {
    "name": "ipython",
    "version": 3
   },
   "file_extension": ".py",
   "mimetype": "text/x-python",
   "name": "python",
   "nbconvert_exporter": "python",
   "pygments_lexer": "ipython3",
   "version": "3.9.13"
  }
 },
 "nbformat": 4,
 "nbformat_minor": 5
}
